{
 "cells": [
  {
   "cell_type": "code",
   "execution_count": 1,
   "id": "e50ec976-a02f-4029-a14c-a3bc57d31bed",
   "metadata": {
    "tags": []
   },
   "outputs": [],
   "source": [
    "# some basic imports\n",
    "import numpy as np\n",
    "import pandas as pd"
   ]
  },
  {
   "cell_type": "code",
   "execution_count": 2,
   "id": "b8cd573d-c628-4da6-8a56-470a9e65a09d",
   "metadata": {
    "tags": []
   },
   "outputs": [
    {
     "data": {
      "text/html": [
       "<div>\n",
       "<style scoped>\n",
       "    .dataframe tbody tr th:only-of-type {\n",
       "        vertical-align: middle;\n",
       "    }\n",
       "\n",
       "    .dataframe tbody tr th {\n",
       "        vertical-align: top;\n",
       "    }\n",
       "\n",
       "    .dataframe thead th {\n",
       "        text-align: right;\n",
       "    }\n",
       "</style>\n",
       "<table border=\"1\" class=\"dataframe\">\n",
       "  <thead>\n",
       "    <tr style=\"text-align: right;\">\n",
       "      <th></th>\n",
       "      <th>review</th>\n",
       "      <th>sentiment</th>\n",
       "    </tr>\n",
       "  </thead>\n",
       "  <tbody>\n",
       "    <tr>\n",
       "      <th>0</th>\n",
       "      <td>One of the other reviewers has mentioned that ...</td>\n",
       "      <td>positive</td>\n",
       "    </tr>\n",
       "    <tr>\n",
       "      <th>1</th>\n",
       "      <td>A wonderful little production. &lt;br /&gt;&lt;br /&gt;The...</td>\n",
       "      <td>positive</td>\n",
       "    </tr>\n",
       "    <tr>\n",
       "      <th>2</th>\n",
       "      <td>I thought this was a wonderful way to spend ti...</td>\n",
       "      <td>positive</td>\n",
       "    </tr>\n",
       "    <tr>\n",
       "      <th>3</th>\n",
       "      <td>Basically there's a family where a little boy ...</td>\n",
       "      <td>negative</td>\n",
       "    </tr>\n",
       "    <tr>\n",
       "      <th>4</th>\n",
       "      <td>Petter Mattei's \"Love in the Time of Money\" is...</td>\n",
       "      <td>positive</td>\n",
       "    </tr>\n",
       "  </tbody>\n",
       "</table>\n",
       "</div>"
      ],
      "text/plain": [
       "                                              review sentiment\n",
       "0  One of the other reviewers has mentioned that ...  positive\n",
       "1  A wonderful little production. <br /><br />The...  positive\n",
       "2  I thought this was a wonderful way to spend ti...  positive\n",
       "3  Basically there's a family where a little boy ...  negative\n",
       "4  Petter Mattei's \"Love in the Time of Money\" is...  positive"
      ]
     },
     "execution_count": 2,
     "metadata": {},
     "output_type": "execute_result"
    }
   ],
   "source": [
    "# importing file and viewing as dataframe\n",
    "path = 'Data/IMDB Dataset.csv'\n",
    "df = pd.read_csv(path)\n",
    "\n",
    "df.head()"
   ]
  },
  {
   "cell_type": "code",
   "execution_count": 3,
   "id": "294c6278-8ae7-4e61-9cb6-50dd782f8b96",
   "metadata": {
    "tags": []
   },
   "outputs": [
    {
     "data": {
      "text/plain": [
       "(50000, 2)"
      ]
     },
     "execution_count": 3,
     "metadata": {},
     "output_type": "execute_result"
    }
   ],
   "source": [
    "# getting to know shape of data\n",
    "df.shape"
   ]
  },
  {
   "cell_type": "code",
   "execution_count": 4,
   "id": "9dcea29e-6370-4b58-b674-f4efdb759de9",
   "metadata": {
    "tags": []
   },
   "outputs": [
    {
     "data": {
      "text/plain": [
       "\"Protocol is an implausible movie whose only saving grace is that it stars Goldie Hawn along with a good cast of supporting actors. The story revolves around a ditzy cocktail waitress who becomes famous after inadvertently saving the life of an Arab dignitary. The story goes downhill halfway through the movie and Goldie's charm just doesn't save this movie. Unless you are a Goldie Hawn fan don't go out of your way to see this film.\""
      ]
     },
     "execution_count": 4,
     "metadata": {},
     "output_type": "execute_result"
    }
   ],
   "source": [
    "# viewing some reviews to know how to clean preprocess\n",
    "df.iloc[46,0]"
   ]
  },
  {
   "cell_type": "markdown",
   "id": "cb9d9788-1534-489b-8ddf-57445129fee8",
   "metadata": {
    "tags": []
   },
   "source": [
    "#### How to clean and preprocess\n",
    "\n",
    "- Remove HTML tags\n",
    "- Remove punctuations\n",
    "- Lowercase\n",
    "- Stemm/Lemm\n",
    "- Tokenize"
   ]
  },
  {
   "cell_type": "markdown",
   "id": "7d2627e8-95d5-4ba1-9762-78d1374693c2",
   "metadata": {},
   "source": [
    "## Cleaning and Preprocessing Text"
   ]
  },
  {
   "cell_type": "code",
   "execution_count": 7,
   "id": "0f781887-e37f-43b6-8079-50c83176aa31",
   "metadata": {
    "tags": []
   },
   "outputs": [],
   "source": [
    "# cleaning and preprocessing tools\n",
    "from nlptools import clean, preprocess"
   ]
  },
  {
   "cell_type": "code",
   "execution_count": 8,
   "id": "f3d6b66d-d5f6-4564-85a9-c66961256389",
   "metadata": {
    "tags": []
   },
   "outputs": [],
   "source": [
    "# removing html tags\n",
    "df['processed'] = df['review'].apply(clean.remove_html_tags)\n",
    "\n",
    "# removing urls\n",
    "df['processed'] = df['processed'].apply(clean.remove_urls)\n",
    "\n",
    "# lowercasing\n",
    "df['processed'] = df['processed'].str.lower()\n",
    "\n",
    "# removing punctuations\n",
    "df['processed'] = df['processed'].apply(clean.remove_punctuations)\n",
    "\n",
    "# removing stop words\n",
    "df['processed'] = df['processed'].apply(clean.remove_stopwords)"
   ]
  },
  {
   "cell_type": "code",
   "execution_count": 9,
   "id": "7fca77b5-0611-4c39-a64d-9f19a8141c86",
   "metadata": {
    "tags": []
   },
   "outputs": [],
   "source": [
    "# stemming\n",
    "df['processed'] = df['processed'].apply(preprocess.stem_text)\n",
    "\n",
    "# tokenization\n",
    "df['processed'] = df['processed'].apply(preprocess.tokenize_text)"
   ]
  },
  {
   "cell_type": "code",
   "execution_count": 10,
   "id": "c63778ec-cd78-465d-887b-59eb80f17242",
   "metadata": {
    "tags": []
   },
   "outputs": [
    {
     "data": {
      "text/html": [
       "<div>\n",
       "<style scoped>\n",
       "    .dataframe tbody tr th:only-of-type {\n",
       "        vertical-align: middle;\n",
       "    }\n",
       "\n",
       "    .dataframe tbody tr th {\n",
       "        vertical-align: top;\n",
       "    }\n",
       "\n",
       "    .dataframe thead th {\n",
       "        text-align: right;\n",
       "    }\n",
       "</style>\n",
       "<table border=\"1\" class=\"dataframe\">\n",
       "  <thead>\n",
       "    <tr style=\"text-align: right;\">\n",
       "      <th></th>\n",
       "      <th>review</th>\n",
       "      <th>sentiment</th>\n",
       "      <th>processed</th>\n",
       "    </tr>\n",
       "  </thead>\n",
       "  <tbody>\n",
       "    <tr>\n",
       "      <th>0</th>\n",
       "      <td>One of the other reviewers has mentioned that ...</td>\n",
       "      <td>positive</td>\n",
       "      <td>[one, review, mention, watch, 1, oz, episod, y...</td>\n",
       "    </tr>\n",
       "    <tr>\n",
       "      <th>1</th>\n",
       "      <td>A wonderful little production. &lt;br /&gt;&lt;br /&gt;The...</td>\n",
       "      <td>positive</td>\n",
       "      <td>[wonder, littl, product, film, techniqu, unass...</td>\n",
       "    </tr>\n",
       "    <tr>\n",
       "      <th>2</th>\n",
       "      <td>I thought this was a wonderful way to spend ti...</td>\n",
       "      <td>positive</td>\n",
       "      <td>[thought, wonder, way, spend, time, hot, summe...</td>\n",
       "    </tr>\n",
       "    <tr>\n",
       "      <th>3</th>\n",
       "      <td>Basically there's a family where a little boy ...</td>\n",
       "      <td>negative</td>\n",
       "      <td>[basic, there, famili, littl, boy, jake, think...</td>\n",
       "    </tr>\n",
       "    <tr>\n",
       "      <th>4</th>\n",
       "      <td>Petter Mattei's \"Love in the Time of Money\" is...</td>\n",
       "      <td>positive</td>\n",
       "      <td>[petter, mattei, love, time, money, visual, st...</td>\n",
       "    </tr>\n",
       "  </tbody>\n",
       "</table>\n",
       "</div>"
      ],
      "text/plain": [
       "                                              review sentiment  \\\n",
       "0  One of the other reviewers has mentioned that ...  positive   \n",
       "1  A wonderful little production. <br /><br />The...  positive   \n",
       "2  I thought this was a wonderful way to spend ti...  positive   \n",
       "3  Basically there's a family where a little boy ...  negative   \n",
       "4  Petter Mattei's \"Love in the Time of Money\" is...  positive   \n",
       "\n",
       "                                           processed  \n",
       "0  [one, review, mention, watch, 1, oz, episod, y...  \n",
       "1  [wonder, littl, product, film, techniqu, unass...  \n",
       "2  [thought, wonder, way, spend, time, hot, summe...  \n",
       "3  [basic, there, famili, littl, boy, jake, think...  \n",
       "4  [petter, mattei, love, time, money, visual, st...  "
      ]
     },
     "execution_count": 10,
     "metadata": {},
     "output_type": "execute_result"
    }
   ],
   "source": [
    "df.head()"
   ]
  },
  {
   "cell_type": "markdown",
   "id": "6c9a1994-03c6-4787-af3f-e0b4b908a50f",
   "metadata": {},
   "source": [
    "## Splitting Train / Test Set"
   ]
  },
  {
   "cell_type": "code",
   "execution_count": 12,
   "id": "6bf7aa23-1c5e-4286-9300-96b8b7ede47f",
   "metadata": {
    "tags": []
   },
   "outputs": [
    {
     "data": {
      "image/png": "[encoded data removed]",
      "text/plain": [
       "<Figure size 640x480 with 1 Axes>"
      ]
     },
     "metadata": {},
     "output_type": "display_data"
    }
   ],
   "source": [
    "# split of labels\n",
    "df['sentiment'].value_counts().plot(kind='pie',autopct='%d%%');"
   ]
  },
  {
   "cell_type": "code",
   "execution_count": 13,
   "id": "13709089-58e6-4f38-b879-c76db79946a5",
   "metadata": {
    "tags": []
   },
   "outputs": [
    {
     "data": {
      "text/plain": [
       "((40000,), (10000,))"
      ]
     },
     "execution_count": 13,
     "metadata": {},
     "output_type": "execute_result"
    }
   ],
   "source": [
    "# splitting train\n",
    "from sklearn.model_selection import train_test_split\n",
    "\n",
    "x_train,x_test,y_train,y_test = train_test_split(df['processed'],df['sentiment'],test_size=0.2)\n",
    "x_train.shape, y_test.shape"
   ]
  },
  {
   "cell_type": "markdown",
   "id": "f85e4b78-6b76-4a6a-82e3-c7712fd483a5",
   "metadata": {},
   "source": [
    "## Textual Representation"
   ]
  },
  {
   "cell_type": "code",
   "execution_count": 15,
   "id": "57d0b9e4-4a58-46c7-a9de-a8cf13c643f8",
   "metadata": {
    "tags": []
   },
   "outputs": [],
   "source": [
    "# encoding output labels\n",
    "from sklearn.preprocessing import LabelEncoder\n",
    "\n",
    "le = LabelEncoder()\n",
    "y_train = le.fit_transform(y_train)\n",
    "y_test = le.transform(y_test)"
   ]
  },
  {
   "cell_type": "code",
   "execution_count": 16,
   "id": "49bfe109-648c-4d71-823c-0b723127a1a2",
   "metadata": {
    "tags": []
   },
   "outputs": [],
   "source": [
    "# function to build pos/neg frequency table for each word\n",
    "def build_freqs(tweets, ys):\n",
    "    \"\"\"Build frequencies.\n",
    "    Input:\n",
    "        tweets: a list of tweets\n",
    "        ys: an m x 1 array with the sentiment label of each tweet\n",
    "            (either 0 or 1)\n",
    "    Output:\n",
    "        freqs: a dictionary mapping each (word, sentiment) pair to its\n",
    "        frequency\n",
    "    \"\"\"\n",
    "    yslist = np.squeeze(ys).tolist()\n",
    "\n",
    "    freqs = {}\n",
    "    for y, tweet in zip(yslist, tweets):\n",
    "        for word in tweet:\n",
    "            pair = (word, y)\n",
    "            freqs[pair] = freqs.get(pair, 0) + 1\n",
    "            \n",
    "    return freqs"
   ]
  },
  {
   "cell_type": "code",
   "execution_count": 27,
   "id": "735da0a5-5bb7-456c-b617-fa0c10be5bf9",
   "metadata": {
    "tags": []
   },
   "outputs": [],
   "source": [
    "freqs = build_freqs(x_train,y_train)"
   ]
  },
  {
   "cell_type": "code",
   "execution_count": 29,
   "id": "b25d5827-3cd0-47a0-abd8-798b3de76941",
   "metadata": {
    "tags": []
   },
   "outputs": [],
   "source": [
    "# function to convert text to numbers\n",
    "def extract_features(tweets, freqs):\n",
    "    '''\n",
    "    Input: \n",
    "        tweet: a string containing one tweet\n",
    "        freqs: a dictionary corresponding to the frequencies of each tuple (word, label)\n",
    "    Output: \n",
    "        x: a feature vector of dimension (1,3)\n",
    "    '''\n",
    "    \n",
    "    # 3 elements for [bias, positive, negative] counts\n",
    "    x = np.zeros(3)\n",
    "    \n",
    "    # bias term is set to 1\n",
    "    x[0] = 1\n",
    "    \n",
    "    ### START CODE HERE ###\n",
    "    \n",
    "    # loop through each word in the list of words\n",
    "    for word in tweets:\n",
    "        pos_count = freqs.get((word,1.0),0)\n",
    "        neg_count = freqs.get((word,0.0),0)\n",
    "        \n",
    "        # increment the word count for the positive label 1\n",
    "        x[1] += pos_count\n",
    "        \n",
    "        # increment the word count for the negative label 0\n",
    "        x[2] += neg_count\n",
    "        \n",
    "    ### END CODE HERE ###\n",
    "    \n",
    "    x = x[None, :]  # adding batch dimension for further processing\n",
    "    assert(x.shape == (1, 3))\n",
    "    return x"
   ]
  },
  {
   "cell_type": "code",
   "execution_count": 33,
   "id": "55f562fd-0c32-4aac-9b87-3022d9b873a7",
   "metadata": {
    "tags": []
   },
   "outputs": [
    {
     "data": {
      "text/plain": [
       "array([[1.00000e+00, 2.95356e+05, 3.02340e+05]])"
      ]
     },
     "execution_count": 33,
     "metadata": {},
     "output_type": "execute_result"
    }
   ],
   "source": [
    "extract_features(x_train[0],freqs)"
   ]
  },
  {
   "cell_type": "code",
   "execution_count": 35,
   "id": "d4f09bcd-a5b3-4d9f-a433-88985441d1ff",
   "metadata": {
    "tags": []
   },
   "outputs": [],
   "source": [
    "# collect the training features 'x' and stack them into a matrix 'X'\n",
    "X_train = np.zeros((len(x_train), 3))\n",
    "for i in range(len(x_train)):\n",
    "    X_train[i, :]= extract_features(x_train.iloc[i], freqs)"
   ]
  },
  {
   "cell_type": "code",
   "execution_count": 36,
   "id": "2f83e639-e52d-45a7-b2e8-0dbfc2af3154",
   "metadata": {
    "tags": []
   },
   "outputs": [
    {
     "data": {
      "text/plain": [
       "(array([[1.00000e+00, 2.56656e+05, 2.68575e+05],\n",
       "        [1.00000e+00, 6.22330e+05, 6.93868e+05],\n",
       "        [1.00000e+00, 6.14463e+05, 6.50229e+05],\n",
       "        ...,\n",
       "        [1.00000e+00, 2.73456e+05, 2.68018e+05],\n",
       "        [1.00000e+00, 4.21202e+05, 4.44221e+05],\n",
       "        [1.00000e+00, 7.42960e+05, 7.56304e+05]]),\n",
       " array([1, 0, 0, ..., 1, 1, 1]))"
      ]
     },
     "execution_count": 36,
     "metadata": {},
     "output_type": "execute_result"
    }
   ],
   "source": [
    "X_train,y_train"
   ]
  },
  {
   "cell_type": "code",
   "execution_count": 37,
   "id": "799d9161-0c1f-4370-bf40-49fd45ca0f62",
   "metadata": {
    "tags": []
   },
   "outputs": [],
   "source": [
    "# for test set\n",
    "X_test = np.zeros((len(x_test), 3))\n",
    "for i in range(len(x_test)):\n",
    "    X_test[i, :]= extract_features(x_test.iloc[i], freqs)"
   ]
  },
  {
   "cell_type": "code",
   "execution_count": 38,
   "id": "f7aabb8d-32c4-4eb9-ada4-fa2d7a114cc8",
   "metadata": {
    "tags": []
   },
   "outputs": [
    {
     "data": {
      "text/plain": [
       "(array([[1.00000e+00, 1.68880e+05, 1.76444e+05],\n",
       "        [1.00000e+00, 3.63875e+05, 4.52126e+05],\n",
       "        [1.00000e+00, 7.86370e+04, 9.25300e+04],\n",
       "        ...,\n",
       "        [1.00000e+00, 5.82024e+05, 5.35159e+05],\n",
       "        [1.00000e+00, 5.53989e+05, 5.92821e+05],\n",
       "        [1.00000e+00, 4.99875e+05, 4.72504e+05]]),\n",
       " array([0, 0, 0, ..., 1, 0, 1]))"
      ]
     },
     "execution_count": 38,
     "metadata": {},
     "output_type": "execute_result"
    }
   ],
   "source": [
    "X_test,y_test"
   ]
  },
  {
   "cell_type": "code",
   "execution_count": 39,
   "id": "b4051e9a-892f-46de-a887-898092e953ea",
   "metadata": {
    "tags": []
   },
   "outputs": [
    {
     "data": {
      "text/plain": [
       "0.6913"
      ]
     },
     "execution_count": 39,
     "metadata": {},
     "output_type": "execute_result"
    }
   ],
   "source": [
    "from sklearn.linear_model import LogisticRegression\n",
    "\n",
    "lr = LogisticRegression()\n",
    "lr.fit(X_train,y_train)\n",
    "lr.score(X_test,y_test)"
   ]
  },
  {
   "cell_type": "code",
   "execution_count": 40,
   "id": "000bd340-9c96-4d11-95bd-9a2052b20092",
   "metadata": {
    "tags": []
   },
   "outputs": [
    {
     "data": {
      "text/plain": [
       "array([0, 0, 0, ..., 1, 0, 1])"
      ]
     },
     "execution_count": 40,
     "metadata": {},
     "output_type": "execute_result"
    }
   ],
   "source": [
    "lr.predict(X_train)"
   ]
  },
  {
   "cell_type": "code",
   "execution_count": 41,
   "id": "57089a4a-83f6-49db-8428-d52c4dd5b79f",
   "metadata": {
    "tags": []
   },
   "outputs": [
    {
     "data": {
      "text/plain": [
       "array([0, 0, 0, ..., 1, 0, 1])"
      ]
     },
     "execution_count": 41,
     "metadata": {},
     "output_type": "execute_result"
    }
   ],
   "source": [
    "lr.predict(X_test)"
   ]
  },
  {
   "cell_type": "code",
   "execution_count": null,
   "id": "bda8e7a7-783e-41d1-8356-02ece885fc89",
   "metadata": {},
   "outputs": [],
   "source": []
  }
 ],
 "metadata": {
  "kernelspec": {
   "display_name": "Python 3 (ipykernel)",
   "language": "python",
   "name": "python3"
  },
  "language_info": {
   "codemirror_mode": {
    "name": "ipython",
    "version": 3
   },
   "file_extension": ".py",
   "mimetype": "text/x-python",
   "name": "python",
   "nbconvert_exporter": "python",
   "pygments_lexer": "ipython3",
   "version": "3.11.7"
  },
  "toc-autonumbering": false,
  "toc-showcode": false,
  "toc-showmarkdowntxt": false
 },
 "nbformat": 4,
 "nbformat_minor": 5
}
