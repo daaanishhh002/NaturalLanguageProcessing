{
 "cells": [
  {
   "cell_type": "code",
   "execution_count": 44,
   "id": "e50ec976-a02f-4029-a14c-a3bc57d31bed",
   "metadata": {
    "tags": []
   },
   "outputs": [],
   "source": [
    "# some basic imports\n",
    "import numpy as np\n",
    "import pandas as pd"
   ]
  },
  {
   "cell_type": "code",
   "execution_count": 46,
   "id": "b8cd573d-c628-4da6-8a56-470a9e65a09d",
   "metadata": {
    "tags": []
   },
   "outputs": [
    {
     "data": {
      "text/html": [
       "<div>\n",
       "<style scoped>\n",
       "    .dataframe tbody tr th:only-of-type {\n",
       "        vertical-align: middle;\n",
       "    }\n",
       "\n",
       "    .dataframe tbody tr th {\n",
       "        vertical-align: top;\n",
       "    }\n",
       "\n",
       "    .dataframe thead th {\n",
       "        text-align: right;\n",
       "    }\n",
       "</style>\n",
       "<table border=\"1\" class=\"dataframe\">\n",
       "  <thead>\n",
       "    <tr style=\"text-align: right;\">\n",
       "      <th></th>\n",
       "      <th>review</th>\n",
       "      <th>sentiment</th>\n",
       "    </tr>\n",
       "  </thead>\n",
       "  <tbody>\n",
       "    <tr>\n",
       "      <th>0</th>\n",
       "      <td>One of the other reviewers has mentioned that ...</td>\n",
       "      <td>positive</td>\n",
       "    </tr>\n",
       "    <tr>\n",
       "      <th>1</th>\n",
       "      <td>A wonderful little production. &lt;br /&gt;&lt;br /&gt;The...</td>\n",
       "      <td>positive</td>\n",
       "    </tr>\n",
       "    <tr>\n",
       "      <th>2</th>\n",
       "      <td>I thought this was a wonderful way to spend ti...</td>\n",
       "      <td>positive</td>\n",
       "    </tr>\n",
       "    <tr>\n",
       "      <th>3</th>\n",
       "      <td>Basically there's a family where a little boy ...</td>\n",
       "      <td>negative</td>\n",
       "    </tr>\n",
       "    <tr>\n",
       "      <th>4</th>\n",
       "      <td>Petter Mattei's \"Love in the Time of Money\" is...</td>\n",
       "      <td>positive</td>\n",
       "    </tr>\n",
       "  </tbody>\n",
       "</table>\n",
       "</div>"
      ],
      "text/plain": [
       "                                              review sentiment\n",
       "0  One of the other reviewers has mentioned that ...  positive\n",
       "1  A wonderful little production. <br /><br />The...  positive\n",
       "2  I thought this was a wonderful way to spend ti...  positive\n",
       "3  Basically there's a family where a little boy ...  negative\n",
       "4  Petter Mattei's \"Love in the Time of Money\" is...  positive"
      ]
     },
     "execution_count": 46,
     "metadata": {},
     "output_type": "execute_result"
    }
   ],
   "source": [
    "# importing file and viewing as dataframe\n",
    "path = 'Data/IMDB Dataset.csv'\n",
    "df = pd.read_csv(path)\n",
    "\n",
    "df.head()"
   ]
  },
  {
   "cell_type": "code",
   "execution_count": 48,
   "id": "294c6278-8ae7-4e61-9cb6-50dd782f8b96",
   "metadata": {
    "tags": []
   },
   "outputs": [
    {
     "data": {
      "text/plain": [
       "(50000, 2)"
      ]
     },
     "execution_count": 48,
     "metadata": {},
     "output_type": "execute_result"
    }
   ],
   "source": [
    "# getting to know shape of data\n",
    "df.shape"
   ]
  },
  {
   "cell_type": "code",
   "execution_count": 50,
   "id": "9dcea29e-6370-4b58-b674-f4efdb759de9",
   "metadata": {
    "tags": []
   },
   "outputs": [
    {
     "data": {
      "text/plain": [
       "\"Just saw 'The League of Gentlemen: Apocalypse' at a special screening in Manchester, with Mark Gatiss and Reece Shearsmith of the League in attendance.<br /><br />At the back was Peter Kay (who has a brief cameo in the film) affectionately heckling at the back during the Q & A session after the film.<br /><br />The film was complicated (in a good way) and very very funny. It follows Geoff Tipps, Hilary Briss and Herr Lipp as they try and save fictional Rosyton Vasey from the disinterest of their creators.<br /><br />The League play a wide range of their characters and themselves (or character based on themselves) and are ably supported by the cream of British character and comedy actors such as Bernard Hill, Victoria Wood and David Warner.<br /><br />Warner is a particular stand out reminding me of his smooth and cutting turn in 'Time Bandits'.<br /><br />The film swims in and out of various realities and allows some of the denizen's of Rosyton Vasey some space to grow beyond their usual limits of their comedy shtick.<br /><br />Steve Pemberton's Herr Lipp has a great Bretchian moment near the end of the movie and has to make a decision about his purpose and meaning in life which brings a lump to the throat at an unexpected moment and surprises you with its tender affection for the characters.<br /><br />This echoes something Mark and Reece said in the Q & A afterwards, that the plot of the league being tired of their famous characters is spurious and that the whole film is really a love letter to them.<br /><br />For a format that started as a radio character-based sketch show, these guys have really evolved the idea so far as to sustain a movie which takes you on a journey through fiction, 'reality', comedy, tragedy and a pleasing journey for two of the less obvious characters to carry a long form story from their 70 odd existing creations.<br /><br />The fans of the show will love it. It pays off dedication and attention to detail in spades, the uninitiated may be a little lost, but the joy of the LoG was always the ability to almost instantly tune into their acutely observed characters and take the stylistic leap into farce and expressionistic movie homage.<br /><br />There are homages a plenty in this one including 'The Shining' and 'La Belle et la Bete', to name but two I spotted and they ably demonstrate their love for cinema and history with a segment in 1690's England that makes perfect sense when you're engaged with the movie.<br /><br />What can I say, I marvelled, boggled, emoted and snickered throughout and they have definitely pulled off what many have failed at. A successful British TV comedy to cinema translation.<br /><br />If you've watched and enjoyed 'The League of Gentlemen' in the past, go see it; you will enjoy.<br /><br />If you haven't, rent/buy a DVD and then go see it.<br /><br />Well done guys and thanks for the charming and humorous Q & A.\""
      ]
     },
     "execution_count": 50,
     "metadata": {},
     "output_type": "execute_result"
    }
   ],
   "source": [
    "# viewing some reviews to know how to clean preprocess\n",
    "df.iloc[47542,0]"
   ]
  },
  {
   "cell_type": "markdown",
   "id": "cb9d9788-1534-489b-8ddf-57445129fee8",
   "metadata": {
    "tags": []
   },
   "source": [
    "#### How to clean and preprocess\n",
    "\n",
    "- Remove HTML tags\n",
    "- Remove punctuations\n",
    "- Lowercase\n",
    "- Stemm/Lemm\n",
    "- Tokenize"
   ]
  },
  {
   "cell_type": "markdown",
   "id": "7d2627e8-95d5-4ba1-9762-78d1374693c2",
   "metadata": {},
   "source": [
    "## Cleaning and Preprocessing Text"
   ]
  },
  {
   "cell_type": "code",
   "execution_count": 52,
   "id": "0f781887-e37f-43b6-8079-50c83176aa31",
   "metadata": {
    "tags": []
   },
   "outputs": [],
   "source": [
    "# cleaning and preprocessing tools\n",
    "from nlptools import clean, preprocess"
   ]
  },
  {
   "cell_type": "code",
   "execution_count": 54,
   "id": "f3d6b66d-d5f6-4564-85a9-c66961256389",
   "metadata": {
    "tags": []
   },
   "outputs": [],
   "source": [
    "# removing html tags\n",
    "df['review'] = df['review'].apply(clean.remove_html_tags)\n",
    "\n",
    "# removing urls\n",
    "df['review'] = df['review'].apply(clean.remove_urls)\n",
    "\n",
    "# lowercasing\n",
    "df['review'] = df['review'].str.lower()\n",
    "\n",
    "# removing punctuations\n",
    "df['review'] = df['review'].apply(clean.remove_punctuations)\n",
    "\n",
    "# removing stop words\n",
    "df['review'] = df['review'].apply(clean.remove_stopwords)"
   ]
  },
  {
   "cell_type": "code",
   "execution_count": 55,
   "id": "7fca77b5-0611-4c39-a64d-9f19a8141c86",
   "metadata": {
    "tags": []
   },
   "outputs": [],
   "source": [
    "# stemming\n",
    "df['review'] = df['review'].apply(preprocess.stem_text)\n",
    "\n",
    "# tokenization\n",
    "df['word_vec'] = df['review'].apply(preprocess.tokenize_text)"
   ]
  },
  {
   "cell_type": "code",
   "execution_count": 56,
   "id": "c63778ec-cd78-465d-887b-59eb80f17242",
   "metadata": {
    "tags": []
   },
   "outputs": [
    {
     "data": {
      "text/html": [
       "<div>\n",
       "<style scoped>\n",
       "    .dataframe tbody tr th:only-of-type {\n",
       "        vertical-align: middle;\n",
       "    }\n",
       "\n",
       "    .dataframe tbody tr th {\n",
       "        vertical-align: top;\n",
       "    }\n",
       "\n",
       "    .dataframe thead th {\n",
       "        text-align: right;\n",
       "    }\n",
       "</style>\n",
       "<table border=\"1\" class=\"dataframe\">\n",
       "  <thead>\n",
       "    <tr style=\"text-align: right;\">\n",
       "      <th></th>\n",
       "      <th>review</th>\n",
       "      <th>sentiment</th>\n",
       "      <th>word_vec</th>\n",
       "    </tr>\n",
       "  </thead>\n",
       "  <tbody>\n",
       "    <tr>\n",
       "      <th>0</th>\n",
       "      <td>one review mention watch 1 oz episod youll hoo...</td>\n",
       "      <td>positive</td>\n",
       "      <td>[one, review, mention, watch, 1, oz, episod, y...</td>\n",
       "    </tr>\n",
       "    <tr>\n",
       "      <th>1</th>\n",
       "      <td>wonder littl product film techniqu unassum old...</td>\n",
       "      <td>positive</td>\n",
       "      <td>[wonder, littl, product, film, techniqu, unass...</td>\n",
       "    </tr>\n",
       "    <tr>\n",
       "      <th>2</th>\n",
       "      <td>thought wonder way spend time hot summer weeke...</td>\n",
       "      <td>positive</td>\n",
       "      <td>[thought, wonder, way, spend, time, hot, summe...</td>\n",
       "    </tr>\n",
       "    <tr>\n",
       "      <th>3</th>\n",
       "      <td>basic there famili littl boy jake think there ...</td>\n",
       "      <td>negative</td>\n",
       "      <td>[basic, there, famili, littl, boy, jake, think...</td>\n",
       "    </tr>\n",
       "    <tr>\n",
       "      <th>4</th>\n",
       "      <td>petter mattei love time money visual stun film...</td>\n",
       "      <td>positive</td>\n",
       "      <td>[petter, mattei, love, time, money, visual, st...</td>\n",
       "    </tr>\n",
       "    <tr>\n",
       "      <th>5</th>\n",
       "      <td>probabl alltim favorit movi stori selfless sac...</td>\n",
       "      <td>positive</td>\n",
       "      <td>[probabl, alltim, favorit, movi, stori, selfle...</td>\n",
       "    </tr>\n",
       "    <tr>\n",
       "      <th>6</th>\n",
       "      <td>sure would like see resurrect date seahunt ser...</td>\n",
       "      <td>positive</td>\n",
       "      <td>[sure, would, like, see, resurrect, date, seah...</td>\n",
       "    </tr>\n",
       "    <tr>\n",
       "      <th>7</th>\n",
       "      <td>show amaz fresh innov idea 70 first air first ...</td>\n",
       "      <td>negative</td>\n",
       "      <td>[show, amaz, fresh, innov, idea, 70, first, ai...</td>\n",
       "    </tr>\n",
       "    <tr>\n",
       "      <th>8</th>\n",
       "      <td>encourag posit comment film look forward watch...</td>\n",
       "      <td>negative</td>\n",
       "      <td>[encourag, posit, comment, film, look, forward...</td>\n",
       "    </tr>\n",
       "    <tr>\n",
       "      <th>9</th>\n",
       "      <td>like origin gut wrench laughter like movi youn...</td>\n",
       "      <td>positive</td>\n",
       "      <td>[like, origin, gut, wrench, laughter, like, mo...</td>\n",
       "    </tr>\n",
       "  </tbody>\n",
       "</table>\n",
       "</div>"
      ],
      "text/plain": [
       "                                              review sentiment  \\\n",
       "0  one review mention watch 1 oz episod youll hoo...  positive   \n",
       "1  wonder littl product film techniqu unassum old...  positive   \n",
       "2  thought wonder way spend time hot summer weeke...  positive   \n",
       "3  basic there famili littl boy jake think there ...  negative   \n",
       "4  petter mattei love time money visual stun film...  positive   \n",
       "5  probabl alltim favorit movi stori selfless sac...  positive   \n",
       "6  sure would like see resurrect date seahunt ser...  positive   \n",
       "7  show amaz fresh innov idea 70 first air first ...  negative   \n",
       "8  encourag posit comment film look forward watch...  negative   \n",
       "9  like origin gut wrench laughter like movi youn...  positive   \n",
       "\n",
       "                                            word_vec  \n",
       "0  [one, review, mention, watch, 1, oz, episod, y...  \n",
       "1  [wonder, littl, product, film, techniqu, unass...  \n",
       "2  [thought, wonder, way, spend, time, hot, summe...  \n",
       "3  [basic, there, famili, littl, boy, jake, think...  \n",
       "4  [petter, mattei, love, time, money, visual, st...  \n",
       "5  [probabl, alltim, favorit, movi, stori, selfle...  \n",
       "6  [sure, would, like, see, resurrect, date, seah...  \n",
       "7  [show, amaz, fresh, innov, idea, 70, first, ai...  \n",
       "8  [encourag, posit, comment, film, look, forward...  \n",
       "9  [like, origin, gut, wrench, laughter, like, mo...  "
      ]
     },
     "execution_count": 56,
     "metadata": {},
     "output_type": "execute_result"
    }
   ],
   "source": [
    "df.head(10)"
   ]
  },
  {
   "cell_type": "code",
   "execution_count": null,
   "id": "b0ecdd6c-0bff-4291-94f7-2be1e7e24c9a",
   "metadata": {},
   "outputs": [],
   "source": []
  }
 ],
 "metadata": {
  "kernelspec": {
   "display_name": "Python 3 (ipykernel)",
   "language": "python",
   "name": "python3"
  },
  "language_info": {
   "codemirror_mode": {
    "name": "ipython",
    "version": 3
   },
   "file_extension": ".py",
   "mimetype": "text/x-python",
   "name": "python",
   "nbconvert_exporter": "python",
   "pygments_lexer": "ipython3",
   "version": "3.11.7"
  },
  "toc-autonumbering": false,
  "toc-showcode": false,
  "toc-showmarkdowntxt": false
 },
 "nbformat": 4,
 "nbformat_minor": 5
}
