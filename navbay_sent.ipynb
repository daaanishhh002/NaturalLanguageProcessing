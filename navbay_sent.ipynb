{
 "cells": [
  {
   "cell_type": "code",
   "execution_count": 1,
   "id": "6e6fe792-2547-4279-afda-5c317c4501ae",
   "metadata": {
    "tags": []
   },
   "outputs": [],
   "source": [
    "# some basic imports\n",
    "import numpy as np\n",
    "import pandas as pd"
   ]
  },
  {
   "cell_type": "code",
   "execution_count": 3,
   "id": "9fa03251-2761-4ab7-9c57-419d23dcb7f5",
   "metadata": {
    "tags": []
   },
   "outputs": [
    {
     "data": {
      "text/html": [
       "<div>\n",
       "<style scoped>\n",
       "    .dataframe tbody tr th:only-of-type {\n",
       "        vertical-align: middle;\n",
       "    }\n",
       "\n",
       "    .dataframe tbody tr th {\n",
       "        vertical-align: top;\n",
       "    }\n",
       "\n",
       "    .dataframe thead th {\n",
       "        text-align: right;\n",
       "    }\n",
       "</style>\n",
       "<table border=\"1\" class=\"dataframe\">\n",
       "  <thead>\n",
       "    <tr style=\"text-align: right;\">\n",
       "      <th></th>\n",
       "      <th>review</th>\n",
       "      <th>sentiment</th>\n",
       "    </tr>\n",
       "  </thead>\n",
       "  <tbody>\n",
       "    <tr>\n",
       "      <th>0</th>\n",
       "      <td>One of the other reviewers has mentioned that ...</td>\n",
       "      <td>positive</td>\n",
       "    </tr>\n",
       "    <tr>\n",
       "      <th>1</th>\n",
       "      <td>A wonderful little production. &lt;br /&gt;&lt;br /&gt;The...</td>\n",
       "      <td>positive</td>\n",
       "    </tr>\n",
       "    <tr>\n",
       "      <th>2</th>\n",
       "      <td>I thought this was a wonderful way to spend ti...</td>\n",
       "      <td>positive</td>\n",
       "    </tr>\n",
       "    <tr>\n",
       "      <th>3</th>\n",
       "      <td>Basically there's a family where a little boy ...</td>\n",
       "      <td>negative</td>\n",
       "    </tr>\n",
       "    <tr>\n",
       "      <th>4</th>\n",
       "      <td>Petter Mattei's \"Love in the Time of Money\" is...</td>\n",
       "      <td>positive</td>\n",
       "    </tr>\n",
       "  </tbody>\n",
       "</table>\n",
       "</div>"
      ],
      "text/plain": [
       "                                              review sentiment\n",
       "0  One of the other reviewers has mentioned that ...  positive\n",
       "1  A wonderful little production. <br /><br />The...  positive\n",
       "2  I thought this was a wonderful way to spend ti...  positive\n",
       "3  Basically there's a family where a little boy ...  negative\n",
       "4  Petter Mattei's \"Love in the Time of Money\" is...  positive"
      ]
     },
     "execution_count": 3,
     "metadata": {},
     "output_type": "execute_result"
    }
   ],
   "source": [
    "# importing file and viewing as dataframe\n",
    "path = 'Data/IMDB Dataset.csv'\n",
    "df = pd.read_csv(path)\n",
    "\n",
    "df.head()"
   ]
  },
  {
   "cell_type": "code",
   "execution_count": 4,
   "id": "4e93f169-41c0-48fc-a6cb-f6a9049a5551",
   "metadata": {
    "tags": []
   },
   "outputs": [
    {
     "data": {
      "text/plain": [
       "(50000, 2)"
      ]
     },
     "execution_count": 4,
     "metadata": {},
     "output_type": "execute_result"
    }
   ],
   "source": [
    "# getting to know shape of data\n",
    "df.shape"
   ]
  },
  {
   "cell_type": "code",
   "execution_count": 5,
   "id": "923e22fb-4611-4bc4-be9d-303015270582",
   "metadata": {
    "tags": []
   },
   "outputs": [
    {
     "data": {
      "text/plain": [
       "\"The first time I saw the poster, I was stunned by its tranquility and beauty. Then the city of Istanbul has been haunting in my mind ever since.<br /><br />Not much dialogue, not much music, the whole film was shot as elaborately and aesthetically like a sculpture. It itself is a landscape.<br /><br />Actually there are a lot of things going on in the film, but the director deliberately omitted most dramatic parts and leave them to our imagination, thus creating a really flat life. **(mild spoiler)One can see Mahmut's ladylove crying in the toilet and then going out without a word but not their fight; one can see Mahmut accompanying his mother in the hospital but not her struggle from illness. The most dramatic scene in the film to me is Yusuf laughing out loud for the toy soldier he bought for his niece,** and that's when it almost broke my heart to see this boring, lonely life bursting out in such a way.<br /><br />With all the trivialities in life weeded, the story presents us with pure inner world of all the characters, their sadness, anxiety, loneliness, regrets...And as the story unfolded, I sort of finally grasped their desperate situation where their emotions were really no way out if no outer things intervened, which is exactly every loner tries to keep at all cost, especially for an irresponsible artist like Mahmut.<br /><br />I've just finished my second watching. Last night, I crouched into my quilt, had some Vodka beside my bed and went through the whole film in a trance. I felt two real lives going on, one outside the screen, one inside the screen. I felt free from all those loneliness and anxiety 'cause the people inside were experiencing it. I just had myself removed from all those things.<br /><br />We cannot deny the universal problem of communication, and loneliness even puts us far towards it, and it becomes a vicious spiral. I bet Mahmut still didn't figure out a way of living in the end. That's why he stepped out of his room to try to find the answers from the outer world, the coldness and landscape.\""
      ]
     },
     "execution_count": 5,
     "metadata": {},
     "output_type": "execute_result"
    }
   ],
   "source": [
    "# viewing some reviews to know how to clean preprocess\n",
    "df.iloc[47042,0]"
   ]
  },
  {
   "cell_type": "markdown",
   "id": "61ec792d-1092-4744-be44-9eeaef8c0d19",
   "metadata": {
    "tags": []
   },
   "source": [
    "#### How to clean and preprocess\n",
    "\n",
    "- Remove HTML tags\n",
    "- Remove punctuations\n",
    "- Lowercase\n",
    "- Stemm/Lemm\n",
    "- Tokenize"
   ]
  },
  {
   "cell_type": "markdown",
   "id": "77b4e0bb-9126-4044-a010-6bfbe41f7b03",
   "metadata": {},
   "source": [
    "## Cleaning and Preprocessing Text"
   ]
  },
  {
   "cell_type": "code",
   "execution_count": 11,
   "id": "ee3ba96d-4926-4a6d-b722-ba106435cd04",
   "metadata": {
    "tags": []
   },
   "outputs": [],
   "source": [
    "# cleaning and preprocessing tools\n",
    "from nlptools import clean, preprocess"
   ]
  },
  {
   "cell_type": "code",
   "execution_count": 12,
   "id": "2b9597e6-c7df-43b7-ad4b-9a09ec2938f5",
   "metadata": {
    "tags": []
   },
   "outputs": [],
   "source": [
    "# removing html tags\n",
    "df['processed'] = df['review'].apply(clean.remove_html_tags)\n",
    "\n",
    "# removing urls\n",
    "df['processed'] = df['processed'].apply(clean.remove_urls)\n",
    "\n",
    "# lowercasing\n",
    "df['processed'] = df['processed'].str.lower()\n",
    "\n",
    "# removing punctuations\n",
    "df['processed'] = df['processed'].apply(clean.remove_punctuations)\n",
    "\n",
    "# removing stop words\n",
    "df['processed'] = df['processed'].apply(clean.remove_stopwords)"
   ]
  },
  {
   "cell_type": "code",
   "execution_count": 13,
   "id": "d949b031-e777-4007-848f-e5c7d92c032d",
   "metadata": {
    "tags": []
   },
   "outputs": [],
   "source": [
    "# stemming\n",
    "df['processed'] = df['processed'].apply(preprocess.stem_text)\n",
    "\n",
    "# tokenization\n",
    "df['processed'] = df['processed'].apply(preprocess.tokenize_text)"
   ]
  },
  {
   "cell_type": "code",
   "execution_count": 14,
   "id": "ff8e5cde-dd10-4591-9967-9ef7fcdb3d3a",
   "metadata": {
    "tags": []
   },
   "outputs": [
    {
     "data": {
      "text/html": [
       "<div>\n",
       "<style scoped>\n",
       "    .dataframe tbody tr th:only-of-type {\n",
       "        vertical-align: middle;\n",
       "    }\n",
       "\n",
       "    .dataframe tbody tr th {\n",
       "        vertical-align: top;\n",
       "    }\n",
       "\n",
       "    .dataframe thead th {\n",
       "        text-align: right;\n",
       "    }\n",
       "</style>\n",
       "<table border=\"1\" class=\"dataframe\">\n",
       "  <thead>\n",
       "    <tr style=\"text-align: right;\">\n",
       "      <th></th>\n",
       "      <th>review</th>\n",
       "      <th>sentiment</th>\n",
       "      <th>processed</th>\n",
       "    </tr>\n",
       "  </thead>\n",
       "  <tbody>\n",
       "    <tr>\n",
       "      <th>49990</th>\n",
       "      <td>Lame, lame, lame!!! A 90-minute cringe-fest th...</td>\n",
       "      <td>negative</td>\n",
       "      <td>[lame, lame, lame, 90minut, cringefest, that, ...</td>\n",
       "    </tr>\n",
       "    <tr>\n",
       "      <th>49991</th>\n",
       "      <td>Les Visiteurs, the first movie about the medie...</td>\n",
       "      <td>negative</td>\n",
       "      <td>[le, visiteur, first, movi, mediev, time, trav...</td>\n",
       "    </tr>\n",
       "    <tr>\n",
       "      <th>49992</th>\n",
       "      <td>John Garfield plays a Marine who is blinded by...</td>\n",
       "      <td>positive</td>\n",
       "      <td>[john, garfield, play, marin, blind, grenad, f...</td>\n",
       "    </tr>\n",
       "    <tr>\n",
       "      <th>49993</th>\n",
       "      <td>Robert Colomb has two full-time jobs. He's kno...</td>\n",
       "      <td>negative</td>\n",
       "      <td>[robert, colomb, two, fulltim, job, he, known,...</td>\n",
       "    </tr>\n",
       "    <tr>\n",
       "      <th>49994</th>\n",
       "      <td>This is your typical junk comedy.&lt;br /&gt;&lt;br /&gt;T...</td>\n",
       "      <td>negative</td>\n",
       "      <td>[typic, junk, comedyther, almost, laugh, genui...</td>\n",
       "    </tr>\n",
       "    <tr>\n",
       "      <th>49995</th>\n",
       "      <td>I thought this movie did a down right good job...</td>\n",
       "      <td>positive</td>\n",
       "      <td>[thought, movi, right, good, job, wasnt, creat...</td>\n",
       "    </tr>\n",
       "    <tr>\n",
       "      <th>49996</th>\n",
       "      <td>Bad plot, bad dialogue, bad acting, idiotic di...</td>\n",
       "      <td>negative</td>\n",
       "      <td>[bad, plot, bad, dialogu, bad, act, idiot, dir...</td>\n",
       "    </tr>\n",
       "    <tr>\n",
       "      <th>49997</th>\n",
       "      <td>I am a Catholic taught in parochial elementary...</td>\n",
       "      <td>negative</td>\n",
       "      <td>[cathol, taught, parochi, elementari, school, ...</td>\n",
       "    </tr>\n",
       "    <tr>\n",
       "      <th>49998</th>\n",
       "      <td>I'm going to have to disagree with the previou...</td>\n",
       "      <td>negative</td>\n",
       "      <td>[im, go, disagre, previou, comment, side, malt...</td>\n",
       "    </tr>\n",
       "    <tr>\n",
       "      <th>49999</th>\n",
       "      <td>No one expects the Star Trek movies to be high...</td>\n",
       "      <td>negative</td>\n",
       "      <td>[one, expect, star, trek, movi, high, art, fan...</td>\n",
       "    </tr>\n",
       "  </tbody>\n",
       "</table>\n",
       "</div>"
      ],
      "text/plain": [
       "                                                  review sentiment  \\\n",
       "49990  Lame, lame, lame!!! A 90-minute cringe-fest th...  negative   \n",
       "49991  Les Visiteurs, the first movie about the medie...  negative   \n",
       "49992  John Garfield plays a Marine who is blinded by...  positive   \n",
       "49993  Robert Colomb has two full-time jobs. He's kno...  negative   \n",
       "49994  This is your typical junk comedy.<br /><br />T...  negative   \n",
       "49995  I thought this movie did a down right good job...  positive   \n",
       "49996  Bad plot, bad dialogue, bad acting, idiotic di...  negative   \n",
       "49997  I am a Catholic taught in parochial elementary...  negative   \n",
       "49998  I'm going to have to disagree with the previou...  negative   \n",
       "49999  No one expects the Star Trek movies to be high...  negative   \n",
       "\n",
       "                                               processed  \n",
       "49990  [lame, lame, lame, 90minut, cringefest, that, ...  \n",
       "49991  [le, visiteur, first, movi, mediev, time, trav...  \n",
       "49992  [john, garfield, play, marin, blind, grenad, f...  \n",
       "49993  [robert, colomb, two, fulltim, job, he, known,...  \n",
       "49994  [typic, junk, comedyther, almost, laugh, genui...  \n",
       "49995  [thought, movi, right, good, job, wasnt, creat...  \n",
       "49996  [bad, plot, bad, dialogu, bad, act, idiot, dir...  \n",
       "49997  [cathol, taught, parochi, elementari, school, ...  \n",
       "49998  [im, go, disagre, previou, comment, side, malt...  \n",
       "49999  [one, expect, star, trek, movi, high, art, fan...  "
      ]
     },
     "execution_count": 14,
     "metadata": {},
     "output_type": "execute_result"
    }
   ],
   "source": [
    "df.tail(10)"
   ]
  },
  {
   "cell_type": "markdown",
   "id": "02e247c2-b95a-4073-819b-0261011d9c6d",
   "metadata": {},
   "source": [
    "## Splitting Train / Test Set"
   ]
  },
  {
   "cell_type": "code",
   "execution_count": 17,
   "id": "73634763-b368-4c6c-9f29-5bf3ede91635",
   "metadata": {
    "tags": []
   },
   "outputs": [
    {
     "data": {
      "image/png": "[encoded data removed]",
      "text/plain": [
       "<Figure size 640x480 with 1 Axes>"
      ]
     },
     "metadata": {},
     "output_type": "display_data"
    }
   ],
   "source": [
    "# split of labels\n",
    "df['sentiment'].value_counts().plot(kind='pie',autopct='%d%%');"
   ]
  },
  {
   "cell_type": "code",
   "execution_count": 18,
   "id": "f0b7b825-5de7-4f60-b033-72dfabd0c23d",
   "metadata": {
    "tags": []
   },
   "outputs": [
    {
     "data": {
      "text/plain": [
       "((40000,), (10000,))"
      ]
     },
     "execution_count": 18,
     "metadata": {},
     "output_type": "execute_result"
    }
   ],
   "source": [
    "# splitting train\n",
    "from sklearn.model_selection import train_test_split\n",
    "\n",
    "X_train,X_test,y_train,y_test = train_test_split(df['processed'],df['sentiment'],test_size=0.2)\n",
    "X_train.shape, y_test.shape"
   ]
  },
  {
   "cell_type": "markdown",
   "id": "0195c24e-2e39-489f-ba12-bdbf8d98d44a",
   "metadata": {},
   "source": [
    "## Textual Representation"
   ]
  },
  {
   "cell_type": "code",
   "execution_count": 20,
   "id": "7e54fdb8-2604-484f-91b3-ba7a7d4d8e1a",
   "metadata": {
    "tags": []
   },
   "outputs": [],
   "source": [
    "# encoding output labels\n",
    "from sklearn.preprocessing import LabelEncoder\n",
    "\n",
    "le = LabelEncoder()\n",
    "y_train = le.fit_transform(y_train)\n",
    "y_test = le.transform(y_test)"
   ]
  },
  {
   "cell_type": "code",
   "execution_count": 21,
   "id": "fa8c6658-8bf8-49cd-bac7-19c3b0e4bbf9",
   "metadata": {
    "tags": []
   },
   "outputs": [],
   "source": [
    "# function to build pos/neg frequency table for each word\n",
    "def build_freqs(tweets, ys):\n",
    "    \"\"\"Build frequencies.\n",
    "    Input:\n",
    "        tweets: a list of tweets\n",
    "        ys: an m x 1 array with the sentiment label of each tweet\n",
    "            (either 0 or 1)\n",
    "    Output:\n",
    "        freqs: a dictionary mapping each (word, sentiment) pair to its\n",
    "        frequency\n",
    "    \"\"\"\n",
    "    yslist = np.squeeze(ys).tolist()\n",
    "\n",
    "    freqs = {}\n",
    "    for y, tweet in zip(yslist, tweets):\n",
    "        for word in tweet:\n",
    "            pair = (word, y)\n",
    "            freqs[pair] = freqs.get(pair, 0) + 1\n",
    "            \n",
    "    return freqs"
   ]
  },
  {
   "cell_type": "code",
   "execution_count": 22,
   "id": "ec58480f-7f36-46db-ba6a-896d7e223b64",
   "metadata": {
    "tags": []
   },
   "outputs": [],
   "source": [
    "freqs = build_freqs(X_train,y_train)"
   ]
  }
 ],
 "metadata": {
  "kernelspec": {
   "display_name": "Python 3 (ipykernel)",
   "language": "python",
   "name": "python3"
  },
  "language_info": {
   "codemirror_mode": {
    "name": "ipython",
    "version": 3
   },
   "file_extension": ".py",
   "mimetype": "text/x-python",
   "name": "python",
   "nbconvert_exporter": "python",
   "pygments_lexer": "ipython3",
   "version": "3.11.7"
  }
 },
 "nbformat": 4,
 "nbformat_minor": 5
}
